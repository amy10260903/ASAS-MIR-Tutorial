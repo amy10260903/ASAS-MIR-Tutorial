{
 "cells": [
  {
   "cell_type": "markdown",
   "metadata": {},
   "source": [
    "# Beat Tracking Homework Description"
   ]
  },
  {
   "cell_type": "markdown",
   "metadata": {},
   "source": [
    "### Mission 1:\n",
    "\n",
    "Try to use functions which are from librosa and madmam to implement the beat-tracking with 3 audio files:<br/>\n",
    "1. Rolling in the deep_10s.wav<br/>\n",
    "2. 孫燕姿_遇見_45sec.wav <br/>\n",
    "3. Chopin Nocturne Op. 62 No. 2 in E.mp3<br/>\n",
    "\n",
    "### Mission 2:\n",
    "\n",
    "Write some comments (what is the principle of each step) to the beat tracking part of your code."
   ]
  },
  {
   "cell_type": "markdown",
   "metadata": {},
   "source": [
    "--------"
   ]
  },
  {
   "cell_type": "markdown",
   "metadata": {},
   "source": [
    "### Things to hand in:\n",
    "\n",
    "Please hand in <strong>two source codes with some comments (mentioned in Mission: 2)</strong> and <strong>three audio files</strong>(mentioned in Mission: 1) <strong>with clicks</strong>. You can generate the better results within these two libraries."
   ]
  },
  {
   "cell_type": "code",
   "execution_count": null,
   "metadata": {},
   "outputs": [],
   "source": []
  }
 ],
 "metadata": {
  "kernelspec": {
   "display_name": "Python 3",
   "language": "python",
   "name": "python3"
  },
  "language_info": {
   "codemirror_mode": {
    "name": "ipython",
    "version": 3
   },
   "file_extension": ".py",
   "mimetype": "text/x-python",
   "name": "python",
   "nbconvert_exporter": "python",
   "pygments_lexer": "ipython3",
   "version": "3.6.2"
  }
 },
 "nbformat": 4,
 "nbformat_minor": 2
}
